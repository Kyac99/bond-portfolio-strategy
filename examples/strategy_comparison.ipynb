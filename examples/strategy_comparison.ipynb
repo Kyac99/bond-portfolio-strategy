{
 "cells": [
  {
   "cell_type": "markdown",
   "metadata": {},
   "source": [
    "# Comparaison des Stratégies de Portefeuille Obligataire\n",
    "\n",
    "Ce notebook illustre l'utilisation du projet \"Bond Portfolio Strategy\" pour comparer les performances de différentes stratégies de portefeuille obligataire.\n",
    "\n",
    "Nous allons explorer les trois approches principales :\n",
    "- **Laddering** : Répartition échelonnée des obligations sur différentes maturités\n",
    "- **Barbell** : Concentration sur les échéances courtes et longues, en évitant les échéances intermédiaires\n",
    "- **Bullet** : Concentration des investissements autour d'une échéance cible\n",
    "\n",
    "Nous analyserons également l'impact des cycles économiques et des régimes de taux d'intérêt sur ces stratégies."
   ]
  },
  {
   "cell_type": "markdown",
   "metadata": {},
   "source": [
    "## 1. Configuration et Chargement des Données"
   ]
  },
  {
   "cell_type": "code",
   "execution_count": null,
   "metadata": {},
   "outputs": [],
   "source": [
    "import sys\n",
    "import os\n",
    "import pandas as pd\n",
    "import numpy as np\n",
    "import matplotlib.pyplot as plt\n",
    "import seaborn as sns\n",
    "from datetime import datetime, timedelta\n",
    "\n",
    "# Ajouter le répertoire parent au chemin pour pouvoir importer les modules du projet\n",
    "sys.path.append('..')\n",
    "\n",
    "# Importer les modules du projet\n",
    "from data.data_loader import DataLoader\n",
    "from models.laddering_strategy import LadderingStrategy\n",
    "from models.barbell_strategy import BarbellStrategy\n",
    "from models.bullet_strategy import BulletStrategy\n",
    "from backtesting.backtest_engine import BacktestEngine\n",
    "from analysis.economic_cycle_analyzer import EconomicCycleAnalyzer\n",
    "from visualization.performance_visualizer import PerformanceVisualizer\n",
    "\n",
    "# Configuration matplotlib\n",
    "plt.style.use('seaborn')\n",
    "plt.rcParams['figure.figsize'] = [12, 8]\n",
    "plt.rcParams['font.size'] = 12"
   ]
  },
  {
   "cell_type": "code",
   "execution_count": null,
   "metadata": {},
   "outputs": [],
   "source": [
    "# Définir les paramètres du backtest\n",
    "start_date = '2010-01-01'\n",
    "end_date = '2024-12-31'\n",
    "rebalance_frequency = 'M'  # Mensuel\n",
    "initial_capital = 1000000  # 1 million de dollars\n",
    "benchmark = 'AGG'  # iShares Core U.S. Aggregate Bond ETF\n",
    "\n",
    "# Si vous avez une clé API FRED, vous pouvez la définir ici\n",
    "# Sinon, laissez api_key = None\n",
    "api_key = None  # Remplacer par votre clé API FRED si disponible\n",
    "\n",
    "# Initialiser le chargeur de données\n",
    "data_loader = DataLoader(api_key=api_key)\n",
    "\n",
    "# Charger les données obligataires\n",
    "print(\"Chargement des données obligataires...\")\n",
    "etf_data = data_loader.load_bond_etfs(start_date=start_date, end_date=end_date)\n",
    "treasury_yields = data_loader.load_treasury_yields(start_date=start_date, end_date=end_date)\n",
    "\n",
    "# Afficher les ETF disponibles\n",
    "print(f\"ETF disponibles: {etf_data.columns.tolist()}\")"
   ]
  },
  {
   "cell_type": "markdown",
   "metadata": {},
   "source": [
    "## 2. Examen des Données de Rendement des Obligations"
   ]
  },
  {
   "cell_type": "code",
   "execution_count": null,
   "metadata": {},
   "outputs": [],
   "source": [
    "# Visualiser les rendements des bons du Trésor\n",
    "plt.figure(figsize=(14, 8))\n",
    "for col in treasury_yields.columns:\n",
    "    plt.plot(treasury_yields.index, treasury_yields[col], label=col)\n",
    "\n",
    "plt.title('Rendements des Bons du Trésor Américain')\n",
    "plt.xlabel('Date')\n",
    "plt.ylabel('Rendement (%)')\n",
    "plt.legend()\n",
    "plt.grid(True)\n",
    "plt.show()"
   ]
  },
  {
   "cell_type": "code",
   "execution_count": null,
   "metadata": {},
   "outputs": [],
   "source": [
    "# Calculer les écarts de rendement (spreads)\n",
    "if '10Y' in treasury_yields.columns and '3M' in treasury_yields.columns:\n",
    "    treasury_yields['10Y_3M_Spread'] = treasury_yields['10Y'] - treasury_yields['3M']\n",
    "\n",
    "if '10Y' in treasury_yields.columns and '2Y' in treasury_yields.columns:\n",
    "    treasury_yields['10Y_2Y_Spread'] = treasury_yields['10Y'] - treasury_yields['2Y']\n",
    "\n",
    "# Visualiser les spreads\n",
    "plt.figure(figsize=(14, 6))\n",
    "if '10Y_3M_Spread' in treasury_yields.columns:\n",
    "    plt.plot(treasury_yields.index, treasury_yields['10Y_3M_Spread'], label='10Y-3M Spread')\n",
    "    \n",
    "if '10Y_2Y_Spread' in treasury_yields.columns:\n",
    "    plt.plot(treasury_yields.index, treasury_yields['10Y_2Y_Spread'], label='10Y-2Y Spread')\n",
    "\n",
    "plt.axhline(y=0, color='r', linestyle='-', alpha=0.3, label='Inversion de la courbe')\n",
    "plt.title('Écarts de Rendement des Bons du Trésor')\n",
    "plt.xlabel('Date')\n",
    "plt.ylabel('Spread (%)')\n",
    "plt.legend()\n",
    "plt.grid(True)\n",
    "plt.show()"
   ]
  },
  {
   "cell_type": "markdown",
   "metadata": {},
   "source": [
    "## 3. Initialisation des Stratégies"
   ]
  },
  {
   "cell_type": "code",
   "execution_count": null,
   "metadata": {},
   "outputs": [],
   "source": [
    "# Stratégie Laddering\n",
    "laddering = LadderingStrategy(\n",
    "    name=\"Laddering\",\n",
    "    maturities=[1, 2, 3, 5, 7, 10],  # Échéances en années\n",
    "    initial_capital=initial_capital,\n",
    "    rebalance_frequency=rebalance_frequency\n",
    ")\n",
    "\n",
    "# Stratégie Barbell\n",
    "barbell = BarbellStrategy(\n",
    "    name=\"Barbell\",\n",
    "    short_weight=0.5,  # 50% en obligations à court terme\n",
    "    long_weight=0.5,   # 50% en obligations à long terme\n",
    "    short_term_max=3,  # Définit les obligations à court terme comme celles <= 3 ans\n",
    "    long_term_min=10,  # Définit les obligations à long terme comme celles >= 10 ans\n",
    "    initial_capital=initial_capital,\n",
    "    rebalance_frequency=rebalance_frequency\n",
    ")\n",
    "\n",
    "# Stratégie Bullet avec cible de 5 ans\n",
    "bullet_5y = BulletStrategy(\n",
    "    name=\"Bullet (5Y)\",\n",
    "    target_maturity=5,  # Cibler les obligations à 5 ans\n",
    "    maturity_range=1,   # Plage de +/- 1 an autour de la cible\n",
    "    initial_capital=initial_capital,\n",
    "    rebalance_frequency=rebalance_frequency\n",
    ")\n",
    "\n",
    "# Stratégie Bullet avec cible de 10 ans\n",
    "bullet_10y = BulletStrategy(\n",
    "    name=\"Bullet (10Y)\",\n",
    "    target_maturity=10,  # Cibler les obligations à 10 ans\n",
    "    maturity_range=2,    # Plage de +/- 2 ans autour de la cible\n",
    "    initial_capital=initial_capital,\n",
    "    rebalance_frequency=rebalance_frequency\n",
    ")"
   ]
  },
  {
   "cell_type": "markdown",
   "metadata": {},
   "source": [
    "## 4. Exécution du Backtest"
   ]
  },
  {
   "cell_type": "code",
   "execution_count": null,
   "metadata": {},
   "outputs": [],
   "source": [
    "# Initialiser le moteur de backtest\n",
    "backtest_engine = BacktestEngine(\n",
    "    data_loader=data_loader,\n",
    "    strategies=[laddering, barbell, bullet_5y, bullet_10y],\n",
    "    benchmark_ticker=benchmark\n",
    ")\n",
    "\n",
    "# Exécuter le backtest\n",
    "print(\"Exécution du backtest...\")\n",
    "results = backtest_engine.run_backtest(\n",
    "    start_date=start_date,\n",
    "    end_date=end_date,\n",
    "    rebalance_frequency=rebalance_frequency\n",
    ")\n",
    "\n",
    "# Afficher le résumé des performances\n",
    "performance_summary = backtest_engine.get_performance_summary()\n",
    "performance_summary"
   ]
  },
  {
   "cell_type": "markdown",
   "metadata": {},
   "source": [
    "## 5. Visualisation des Performances"
   ]
  },
  {
   "cell_type": "code",
   "execution_count": null,
   "metadata": {},
   "outputs": [],
   "source": [
    "# Initialiser le visualiseur de performances\n",
    "visualizer = PerformanceVisualizer()\n",
    "\n",
    "# Extraire les données des portefeuilles\n",
    "portfolios = {name: result['portfolio'] for name, result in results.items()}\n",
    "benchmark_data = portfolios.pop(f\"Benchmark ({benchmark})\")\n",
    "\n",
    "# Visualiser l'évolution de la valeur du portefeuille\n",
    "fig1 = visualizer.plot_portfolio_value(portfolios, benchmark_data)\n",
    "plt.show()"
   ]
  },
  {
   "cell_type": "code",
   "execution_count": null,
   "metadata": {},
   "outputs": [],
   "source": [
    "# Visualiser les drawdowns\n",
    "fig2 = visualizer.plot_drawdown(portfolios, benchmark_data)\n",
    "plt.show()"
   ]
  },
  {
   "cell_type": "code",
   "execution_count": null,
   "metadata": {},
   "outputs": [],
   "source": [
    "# Visualiser les rendements glissants sur 1 an\n",
    "fig3 = visualizer.plot_rolling_metrics(portfolios, benchmark_data, metric='returns', window=252)\n",
    "plt.show()"
   ]
  },
  {
   "cell_type": "code",
   "execution_count": null,
   "metadata": {},
   "outputs": [],
   "source": [
    "# Visualiser la volatilité glissante sur 1 an\n",
    "fig4 = visualizer.plot_rolling_metrics(portfolios, benchmark_data, metric='volatility', window=252)\n",
    "plt.show()"
   ]
  },
  {
   "cell_type": "code",
   "execution_count": null,
   "metadata": {},
   "outputs": [],
   "source": [
    "# Visualiser le ratio de Sharpe glissant sur 1 an\n",
    "fig5 = visualizer.plot_rolling_metrics(portfolios, benchmark_data, metric='sharpe', window=252)\n",
    "plt.show()"
   ]
  },
  {
   "cell_type": "code",
   "execution_count": null,
   "metadata": {},
   "outputs": [],
   "source": [
    "# Visualiser les rendements mensuels\n",
    "fig6 = visualizer.plot_returns_comparison(portfolios, benchmark_data, period='M')\n",
    "plt.show()"
   ]
  },
  {
   "cell_type": "markdown",
   "metadata": {},
   "source": [
    "## 6. Analyse des Cycles Économiques et Impact sur les Stratégies"
   ]
  },
  {
   "cell_type": "code",
   "execution_count": null,
   "metadata": {},
   "outputs": [],
   "source": [
    "# Analyse des cycles économiques (nécessite une clé API FRED)\n",
    "if api_key:\n",
    "    cycle_analyzer = EconomicCycleAnalyzer(data_loader)\n",
    "    \n",
    "    # Charger les données économiques\n",
    "    economic_data = cycle_analyzer.load_economic_data(\n",
    "        start_date=start_date,\n",
    "        end_date=end_date\n",
    "    )\n",
    "    \n",
    "    # Identifier les cycles économiques\n",
    "    cycles = cycle_analyzer.identify_cycles(method='composite', window=12, smoothing=3)\n",
    "    \n",
    "    # Visualiser les cycles\n",
    "    fig7 = cycle_analyzer.plot_cycles()\n",
    "    plt.show()\n",
    "    \n",
    "    # Analyser la performance par cycle\n",
    "    cycle_analysis = backtest_engine.analyze_performance_by_economic_cycle(cycles)\n",
    "    print(\"Performance par cycle économique:\")\n",
    "    display(cycle_analysis)\n",
    "else:\n",
    "    print(\"Une clé API FRED est nécessaire pour l'analyse des cycles économiques.\")"
   ]
  },
  {
   "cell_type": "code",
   "execution_count": null,
   "metadata": {},
   "outputs": [],
   "source": [
    "# Identifier les régimes de la courbe des taux\n",
    "if '10Y' in treasury_yields.columns and '3M' in treasury_yields.columns:\n",
    "    if api_key:\n",
    "        yield_regimes = cycle_analyzer.identify_yield_curve_regime(treasury_yields)\n",
    "        \n",
    "        # Visualiser les régimes\n",
    "        plt.figure(figsize=(14, 6))\n",
    "        for regime in yield_regimes['regime'].unique():\n",
    "            mask = yield_regimes['regime'] == regime\n",
    "            plt.fill_between(\n",
    "                yield_regimes[mask].index, \n",
    "                0, 1, \n",
    "                where=mask.values, \n",
    "                alpha=0.3, \n",
    "                label=regime\n",
    "            )\n",
    "            \n",
    "        plt.plot(treasury_yields.index, treasury_yields['10Y_3M_Spread'], 'k-', label='10Y-3M Spread')\n",
    "        plt.axhline(y=0, color='r', linestyle='--', alpha=0.5)\n",
    "        plt.title('Régimes de la Courbe des Taux')\n",
    "        plt.xlabel('Date')\n",
    "        plt.ylabel('Spread (%)')\n",
    "        plt.legend()\n",
    "        plt.grid(True)\n",
    "        plt.show()\n",
    "        \n",
    "        # Analyse combinée des cycles et de la courbe des taux\n",
    "        combined_analysis = cycle_analyzer.generate_combined_analysis(etf_data, treasury_yields)\n",
    "        \n",
    "        # Afficher les recommandations\n",
    "        recommendations = pd.DataFrame.from_dict(combined_analysis['recommendations'], orient='index')\n",
    "        print(\"Recommandations de stratégie par cycle et régime:\")\n",
    "        display(recommendations)\n",
    "        \n",
    "        # Afficher les recommandations actuelles\n",
    "        current_cycle = combined_analysis['current_cycle']\n",
    "        current_regime = combined_analysis['current_regime']\n",
    "        \n",
    "        print(f\"\\nCycle économique actuel: {current_cycle}\")\n",
    "        print(f\"Régime de courbe des taux actuel: {current_regime}\")\n",
    "        \n",
    "        current_combo = f\"{current_cycle}_{current_regime}\"\n",
    "        if current_combo in combined_analysis['recommendations']:\n",
    "            rec = combined_analysis['recommendations'][current_combo]\n",
    "            print(\"\\nRecommandation de stratégie actuelle:\")\n",
    "            print(f\"  Type: {rec['strategy_type']}\")\n",
    "            print(f\"  Justification: {rec['rationale']}\")\n",
    "            print(f\"  Meilleur ETF: {rec['best_etf']}\")\n",
    "            print(f\"  Rendement attendu: {rec['expected_return']:.2f}%\")\n",
    "            print(f\"  Volatilité attendue: {rec['expected_volatility']:.2f}%\")\n",
    "            print(f\"  Ratio de Sharpe: {rec['sharpe_ratio']:.2f}\")\n",
    "    else:\n",
    "        print(\"Une clé API FRED est nécessaire pour l'analyse des régimes de la courbe des taux.\")"
   ]
  },
  {
   "cell_type": "markdown",
   "metadata": {},
   "source": [
    "## 7. Analyse des Périodes de Hausse et de Baisse des Taux"
   ]
  },
  {
   "cell_type": "code",
   "execution_count": null,
   "metadata": {},
   "outputs": [],
   "source": [
    "# Identifier les périodes de hausse et de baisse des taux\n",
    "if '10Y' in treasury_yields.columns:\n",
    "    # Calculer la variation du taux à 10 ans sur 3 mois\n",
    "    treasury_yields['10Y_change_3m'] = treasury_yields['10Y'].diff(60)  # Environ 60 jours de trading\n",
    "    \n",
    "    # Définir les périodes de hausse et de baisse\n",
    "    rate_regimes = pd.DataFrame(index=treasury_yields.index)\n",
    "    rate_regimes['regime'] = 'stable'\n",
    "    rate_regimes.loc[treasury_yields['10Y_change_3m'] > 0.5, 'regime'] = 'rising'  # Hausse significative\n",
    "    rate_regimes.loc[treasury_yields['10Y_change_3m'] < -0.5, 'regime'] = 'falling'  # Baisse significative\n",
    "    \n",
    "    # Visualiser les régimes de taux\n",
    "    plt.figure(figsize=(14, 8))\n",
    "    plt.subplot(2, 1, 1)\n",
    "    plt.plot(treasury_yields.index, treasury_yields['10Y'], label='Taux à 10 ans')\n",
    "    plt.title('Rendement des Bons du Trésor à 10 ans')\n",
    "    plt.ylabel('Rendement (%)')\n",
    "    plt.grid(True)\n",
    "    plt.legend()\n",
    "    \n",
    "    plt.subplot(2, 1, 2)\n",
    "    for regime in rate_regimes['regime'].unique():\n",
    "        mask = rate_regimes['regime'] == regime\n",
    "        plt.fill_between(\n",
    "            rate_regimes[mask].index, \n",
    "            0, 1, \n",
    "            where=mask.values, \n",
    "            alpha=0.3, \n",
    "            label=regime\n",
    "        )\n",
    "        \n",
    "    plt.plot(treasury_yields.index, treasury_yields['10Y_change_3m'], 'k-', label='Variation sur 3 mois')\n",
    "    plt.axhline(y=0, color='r', linestyle='--', alpha=0.5)\n",
    "    plt.title('Régimes de Taux d\\'Intérêt')\n",
    "    plt.xlabel('Date')\n",
    "    plt.ylabel('Variation (%)')\n",
    "    plt.legend()\n",
    "    plt.grid(True)\n",
    "    plt.tight_layout()\n",
    "    plt.show()\n",
    "    \n",
    "    # Analyser la performance par régime de taux\n",
    "    # Faire correspondre les dates des régimes avec celles des portefeuilles\n",
    "    rate_regimes_daily = rate_regimes.resample('D').ffill()\n",
    "    \n",
    "    # Créer un DataFrame avec les performances par régime\n",
    "    performance_by_regime = pd.DataFrame(index=['rising', 'stable', 'falling'], \n",
    "                                         columns=list(portfolios.keys()) + ['Benchmark'])\n",
    "    \n",
    "    # Analyser chaque stratégie\n",
    "    for name, portfolio in portfolios.items():\n",
    "        returns = portfolio['returns'].dropna()\n",
    "        for regime in ['rising', 'stable', 'falling']:\n",
    "            # Filtrer les rendements correspondant au régime\n",
    "            mask = rate_regimes_daily.loc[returns.index]['regime'] == regime\n",
    "            regime_returns = returns[mask]\n",
    "            \n",
    "            if len(regime_returns) > 0:\n",
    "                # Calculer le rendement annualisé\n",
    "                annualized_return = regime_returns.mean() * 252 * 100  # En pourcentage\n",
    "                performance_by_regime.loc[regime, name] = f\"{annualized_return:.2f}%\"\n",
    "    \n",
    "    # Ajouter le benchmark\n",
    "    benchmark_returns = benchmark_data['returns'].dropna()\n",
    "    for regime in ['rising', 'stable', 'falling']:\n",
    "        mask = rate_regimes_daily.loc[benchmark_returns.index]['regime'] == regime\n",
    "        regime_returns = benchmark_returns[mask]\n",
    "        \n",
    "        if len(regime_returns) > 0:\n",
    "            annualized_return = regime_returns.mean() * 252 * 100  # En pourcentage\n",
    "            performance_by_regime.loc[regime, 'Benchmark'] = f\"{annualized_return:.2f}%\"\n",
    "    \n",
    "    print(\"Performance par régime de taux d'intérêt:\")\n",
    "    display(performance_by_regime)"
   ]
  },
  {
   "cell_type": "markdown",
   "metadata": {},
   "source": [
    "## 8. Conclusions et Recommandations"
   ]
  },
  {
   "cell_type": "markdown",
   "metadata": {},
   "source": [
    "### Résumé des Performances\n",
    "\n",
    "Notre analyse des différentes stratégies de portefeuille obligataire nous permet de tirer les conclusions suivantes :\n",
    "\n",
    "1. **Performance Globale** :\n",
    "   - La stratégie ___ a offert le meilleur rendement total sur la période.\n",
    "   - La stratégie ___ a présenté le meilleur rapport rendement/risque (ratio de Sharpe).\n",
    "   - La stratégie ___ a montré la plus faible volatilité.\n",
    "\n",
    "2. **Performance par Cycle Économique** :\n",
    "   - En phase d'expansion : la stratégie ___ est la plus performante.\n",
    "   - En phase de pic : la stratégie ___ est la plus performante.\n",
    "   - En phase de contraction : la stratégie ___ est la plus performante.\n",
    "   - En phase de creux : la stratégie ___ est la plus performante.\n",
    "\n",
    "3. **Performance par Régime de Taux** :\n",
    "   - En période de hausse des taux : la stratégie ___ est la plus performante.\n",
    "   - En période de taux stables : la stratégie ___ est la plus performante.\n",
    "   - En période de baisse des taux : la stratégie ___ est la plus performante.\n",
    "\n",
    "### Recommandations\n",
    "\n",
    "Sur la base de notre analyse, voici nos recommandations pour la gestion d'un portefeuille obligataire :\n",
    "\n",
    "1. **Stratégie de Base** : Utiliser une approche ___ comme fondement du portefeuille obligataire pour sa robustesse dans différentes conditions de marché.\n",
    "\n",
    "2. **Ajustements Tactiques** :\n",
    "   - Dans un environnement de hausse des taux, privilégier ___.\n",
    "   - Dans un environnement de baisse des taux, privilégier ___.\n",
    "   - Lors de l'inversion de la courbe des taux, privilégier ___.\n",
    "\n",
    "3. **Allocation Stratégique** : Une combinaison des différentes approches peut offrir une meilleure diversification. Nous recommandons :\n",
    "   - ___% en Laddering pour ___\n",
    "   - ___% en Barbell pour ___\n",
    "   - ___% en Bullet pour ___\n",
    "\n",
    "En fonction de votre perspective actuelle sur le cycle économique et les taux d'intérêt, vous pouvez ajuster ces allocations pour optimiser la performance de votre portefeuille obligataire."
   ]
  }
 ],
 "metadata": {
  "kernelspec": {
   "display_name": "Python 3",
   "language": "python",
   "name": "python3"
  },
  "language_info": {
   "codemirror_mode": {
    "name": "ipython",
    "version": 3
   },
   "file_extension": ".py",
   "mimetype": "text/x-python",
   "name": "python",
   "nbconvert_exporter": "python",
   "pygments_lexer": "ipython3",
   "version": "3.8.10"
  }
 },
 "nbformat": 4,
 "nbformat_minor": 4
}
